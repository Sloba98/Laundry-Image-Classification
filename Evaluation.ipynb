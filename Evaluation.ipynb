{
  "nbformat": 4,
  "nbformat_minor": 0,
  "metadata": {
    "colab": {
      "provenance": [],
      "gpuType": "T4",
      "mount_file_id": "19gIu-WZrTrt-BtimgWD4oiCjJUZh6ckW",
      "authorship_tag": "ABX9TyMti9iMV0Upoyb1Wmx3Ohvm",
      "include_colab_link": true
    },
    "kernelspec": {
      "name": "python3",
      "display_name": "Python 3"
    },
    "language_info": {
      "name": "python"
    },
    "accelerator": "GPU"
  },
  "cells": [
    {
      "cell_type": "markdown",
      "metadata": {
        "id": "view-in-github",
        "colab_type": "text"
      },
      "source": [
        "<a href=\"https://colab.research.google.com/github/Sloba98/Laundry-Image-Classification/blob/restnet_fine_tuning/Evaluation.ipynb\" target=\"_parent\"><img src=\"https://colab.research.google.com/assets/colab-badge.svg\" alt=\"Open In Colab\"/></a>"
      ]
    },
    {
      "cell_type": "code",
      "execution_count": 54,
      "metadata": {
        "id": "S-A_bktX7vLQ"
      },
      "outputs": [],
      "source": [
        "import torch\n",
        "from torch import nn\n",
        "from torch import optim\n",
        "from torchvision import models, transforms\n",
        "from torchvision.models import ResNet50_Weights\n",
        "from torchvision import datasets, transforms\n",
        "from torch.utils.data import DataLoader\n",
        "from torchvision.datasets import ImageFolder\n",
        "from torchvision.transforms import functional\n",
        "from sklearn.metrics import confusion_matrix\n",
        "import numpy as np\n",
        "import torchvision"
      ]
    },
    {
      "cell_type": "code",
      "source": [
        "from PIL import Image\n",
        "from torchvision import transforms"
      ],
      "metadata": {
        "id": "cOXZjqr38pEd"
      },
      "execution_count": 13,
      "outputs": []
    },
    {
      "cell_type": "code",
      "source": [
        "\n",
        "from matplotlib import pyplot as plt\n",
        "from matplotlib import image as mpimg\n",
        ""
      ],
      "metadata": {
        "id": "lcTqnv928q_t"
      },
      "execution_count": 14,
      "outputs": []
    },
    {
      "cell_type": "code",
      "source": [
        "test_transforms = transforms.Compose([\n",
        "    transforms.Resize((224, 224)),\n",
        "    transforms.ToTensor(),\n",
        "    transforms.Normalize(mean=[0.485, 0.456, 0.406], std=[0.229, 0.224, 0.225])\n",
        "])\n",
        "\n",
        "test_dataset = datasets.ImageFolder(root='/content/drive/MyDrive/Colab Notebooks/laundry classification/Laundry-Image-Classification/inputs/test', transform=test_transforms)\n",
        "test_loader = DataLoader(test_dataset, batch_size=32, shuffle=False, num_workers=2)"
      ],
      "metadata": {
        "id": "q7pKrrnK8se1"
      },
      "execution_count": 15,
      "outputs": []
    },
    {
      "cell_type": "code",
      "source": [
        "def load_model(model_path, device):\n",
        "    model = torchvision.models.resnet50()\n",
        "    model.fc = nn.Linear(model.fc.in_features, 10)\n",
        "    model.load_state_dict(torch.load(model_path, map_location=device))\n",
        "    model.to(device)\n",
        "    model.eval()\n",
        "    return model"
      ],
      "metadata": {
        "id": "9e4iW6GT80WT"
      },
      "execution_count": 55,
      "outputs": []
    },
    {
      "cell_type": "code",
      "source": [
        "def evaluate_model(model, dataloader, criterion, device):\n",
        "    model.eval()\n",
        "    running_loss = 0.0\n",
        "    running_corrects = 0\n",
        "    total = 0\n",
        "    all_preds = []\n",
        "    all_labels = []\n",
        "\n",
        "    with torch.no_grad():\n",
        "        for inputs, labels in dataloader:\n",
        "            inputs, labels = inputs.to(device), labels.to(device)\n",
        "            outputs = model(inputs)\n",
        "            loss = criterion(outputs, labels)\n",
        "\n",
        "            _, preds = torch.max(outputs, 1)\n",
        "            running_loss += loss.item() * inputs.size(0)\n",
        "            running_corrects += torch.sum(preds == labels.data)\n",
        "            total += labels.size(0)\n",
        "\n",
        "            all_preds.extend(preds.cpu().numpy())\n",
        "            all_labels.extend(labels.cpu().numpy())\n",
        "\n",
        "    epoch_loss = running_loss / total\n",
        "    epoch_accuracy = running_corrects.double() / total\n",
        "\n",
        "    confusion_mat = confusion_matrix(all_labels, all_preds)\n",
        "\n",
        "    return epoch_loss, epoch_accuracy.item(), confusion_mat\n"
      ],
      "metadata": {
        "id": "j1skTCnG9hS7"
      },
      "execution_count": 56,
      "outputs": []
    },
    {
      "cell_type": "code",
      "source": [
        "device = torch.device(\"cuda:0\" if torch.cuda.is_available() else \"cpu\")\n"
      ],
      "metadata": {
        "id": "A_8I_51c9oKp"
      },
      "execution_count": 57,
      "outputs": []
    },
    {
      "cell_type": "code",
      "source": [
        "model_paths = {\"base\": \"/content/resnet_base_32\",\n",
        "          \"augmentation\": \"/content/resnet_base_32_augmentation\",\n",
        "          \"finetunning\": \"/content/resnet_base_32_early_stop_001_lr\"}\n",
        "criterion = nn.CrossEntropyLoss()\n"
      ],
      "metadata": {
        "id": "Yb3sB29e9qZG"
      },
      "execution_count": 58,
      "outputs": []
    },
    {
      "cell_type": "code",
      "source": [
        "model = load_model(model_paths['base'], device=device)\n",
        "loss, accuracy, confusion_mat = evaluate_model(model=model, dataloader=test_loader, criterion=criterion, device=device)"
      ],
      "metadata": {
        "colab": {
          "base_uri": "https://localhost:8080/"
        },
        "id": "ctZhtRYW-EjZ",
        "outputId": "1f9d85c4-4544-4d0b-f636-cc6326b256b5"
      },
      "execution_count": 66,
      "outputs": [
        {
          "output_type": "stream",
          "name": "stderr",
          "text": [
            "<ipython-input-55-0957ae11bfc0>:4: FutureWarning: You are using `torch.load` with `weights_only=False` (the current default value), which uses the default pickle module implicitly. It is possible to construct malicious pickle data which will execute arbitrary code during unpickling (See https://github.com/pytorch/pytorch/blob/main/SECURITY.md#untrusted-models for more details). In a future release, the default value for `weights_only` will be flipped to `True`. This limits the functions that could be executed during unpickling. Arbitrary objects will no longer be allowed to be loaded via this mode unless they are explicitly allowlisted by the user via `torch.serialization.add_safe_globals`. We recommend you start setting `weights_only=True` for any use case where you don't have full control of the loaded file. Please open an issue on GitHub for any issues related to this experimental feature.\n",
            "  model.load_state_dict(torch.load(model_path, map_location=device))\n"
          ]
        }
      ]
    },
    {
      "cell_type": "code",
      "source": [
        "print(f\"Loss: {loss}, Accuracy: {accuracy}\")\n",
        "print(confusion_mat)"
      ],
      "metadata": {
        "colab": {
          "base_uri": "https://localhost:8080/"
        },
        "id": "Wac1gJcUATEc",
        "outputId": "3eeb80b2-e7a0-4a3c-f9a2-22aafbd0ba0b"
      },
      "execution_count": 67,
      "outputs": [
        {
          "output_type": "stream",
          "name": "stdout",
          "text": [
            "Loss: 0.4596870057685401, Accuracy: 0.8387096774193549\n",
            "[[12  0  0  0  0  1  0  2  0  0]\n",
            " [ 0 10  0  1  0  0  1  0  0  0]\n",
            " [ 1  1 53  4  0  4  0  1  2  6]\n",
            " [ 0  0  4 31  0  2  0  0  1  0]\n",
            " [ 0  0  0  0 39  0  0  2  1  0]\n",
            " [ 0  0  1  2  0 21  0  1  0  1]\n",
            " [ 0  1  0  0  0  1 71  0  0  0]\n",
            " [ 0  0  0  0  1  0  0 29  0  0]\n",
            " [ 1  1  0  0  0  0  0  2  8  0]\n",
            " [ 3  0  6  0  0  5  0  0  0 38]]\n"
          ]
        }
      ]
    },
    {
      "cell_type": "code",
      "source": [
        "model = load_model(model_paths['augmentation'], device=device)\n",
        "loss, accuracy, confusion_mat = evaluate_model(model=model, dataloader=test_loader, criterion=criterion, device=device)"
      ],
      "metadata": {
        "colab": {
          "base_uri": "https://localhost:8080/"
        },
        "id": "ujnjTitSB0Sz",
        "outputId": "9fbc99c8-410e-4cc1-f02e-24ba79ae0d06"
      },
      "execution_count": 68,
      "outputs": [
        {
          "output_type": "stream",
          "name": "stderr",
          "text": [
            "<ipython-input-55-0957ae11bfc0>:4: FutureWarning: You are using `torch.load` with `weights_only=False` (the current default value), which uses the default pickle module implicitly. It is possible to construct malicious pickle data which will execute arbitrary code during unpickling (See https://github.com/pytorch/pytorch/blob/main/SECURITY.md#untrusted-models for more details). In a future release, the default value for `weights_only` will be flipped to `True`. This limits the functions that could be executed during unpickling. Arbitrary objects will no longer be allowed to be loaded via this mode unless they are explicitly allowlisted by the user via `torch.serialization.add_safe_globals`. We recommend you start setting `weights_only=True` for any use case where you don't have full control of the loaded file. Please open an issue on GitHub for any issues related to this experimental feature.\n",
            "  model.load_state_dict(torch.load(model_path, map_location=device))\n"
          ]
        }
      ]
    },
    {
      "cell_type": "code",
      "source": [
        "print(f\"Loss: {loss}, Accuracy: {accuracy}\")\n",
        "print(confusion_mat)"
      ],
      "metadata": {
        "colab": {
          "base_uri": "https://localhost:8080/"
        },
        "id": "XN7jlMhXCD8C",
        "outputId": "1dad2b31-1342-4e92-c6b5-1960d23bdcb7"
      },
      "execution_count": 69,
      "outputs": [
        {
          "output_type": "stream",
          "name": "stdout",
          "text": [
            "Loss: 0.4803991975483074, Accuracy: 0.8413978494623656\n",
            "[[13  0  0  0  0  1  0  1  0  0]\n",
            " [ 0  9  0  1  0  0  2  0  0  0]\n",
            " [ 3  2 45  8  0  5  0  0  1  8]\n",
            " [ 0  0  1 35  0  1  0  0  1  0]\n",
            " [ 0  0  0  0 42  0  0  0  0  0]\n",
            " [ 1  0  0  8  0 14  0  1  0  2]\n",
            " [ 0  0  0  0  0  0 73  0  0  0]\n",
            " [ 0  0  0  1  2  0  0 27  0  0]\n",
            " [ 1  0  0  1  0  0  0  2  8  0]\n",
            " [ 1  0  1  0  0  2  0  1  0 47]]\n"
          ]
        }
      ]
    },
    {
      "cell_type": "code",
      "source": [
        "model = load_model(model_paths['finetunning'], device=device)\n",
        "loss, accuracy, confusion_mat = evaluate_model(model=model, dataloader=test_loader, criterion=criterion, device=device)"
      ],
      "metadata": {
        "colab": {
          "base_uri": "https://localhost:8080/"
        },
        "id": "qBNI5M_mCIpk",
        "outputId": "3f4a0e4a-01b9-4364-eede-faf23df13e24"
      },
      "execution_count": 70,
      "outputs": [
        {
          "output_type": "stream",
          "name": "stderr",
          "text": [
            "<ipython-input-55-0957ae11bfc0>:4: FutureWarning: You are using `torch.load` with `weights_only=False` (the current default value), which uses the default pickle module implicitly. It is possible to construct malicious pickle data which will execute arbitrary code during unpickling (See https://github.com/pytorch/pytorch/blob/main/SECURITY.md#untrusted-models for more details). In a future release, the default value for `weights_only` will be flipped to `True`. This limits the functions that could be executed during unpickling. Arbitrary objects will no longer be allowed to be loaded via this mode unless they are explicitly allowlisted by the user via `torch.serialization.add_safe_globals`. We recommend you start setting `weights_only=True` for any use case where you don't have full control of the loaded file. Please open an issue on GitHub for any issues related to this experimental feature.\n",
            "  model.load_state_dict(torch.load(model_path, map_location=device))\n"
          ]
        }
      ]
    },
    {
      "cell_type": "code",
      "source": [
        "print(f\"Loss: {loss}, Accuracy: {accuracy}\")\n",
        "print(confusion_mat)"
      ],
      "metadata": {
        "colab": {
          "base_uri": "https://localhost:8080/"
        },
        "id": "fkbS-nEWCYkh",
        "outputId": "ee3bbc1c-e648-4d28-bd43-546d42d8b6b6"
      },
      "execution_count": 71,
      "outputs": [
        {
          "output_type": "stream",
          "name": "stdout",
          "text": [
            "Loss: 0.5087916924748369, Accuracy: 0.8575268817204301\n",
            "[[11  0  1  0  0  1  0  0  2  0]\n",
            " [ 1  2  1  0  0  0  6  0  2  0]\n",
            " [ 1  0 65  0  0  4  0  0  0  2]\n",
            " [ 0  0  7 24  0  7  0  0  0  0]\n",
            " [ 0  0  0  0 42  0  0  0  0  0]\n",
            " [ 0  0  1  0  0 24  0  0  0  1]\n",
            " [ 0  1  0  0  0  1 71  0  0  0]\n",
            " [ 0  0  0  0  3  0  0 26  1  0]\n",
            " [ 0  0  0  1  0  0  1  0 10  0]\n",
            " [ 2  0  5  0  0  1  0  0  0 44]]\n"
          ]
        }
      ]
    },
    {
      "cell_type": "code",
      "source": [],
      "metadata": {
        "id": "NoNGmp_RCdRR"
      },
      "execution_count": null,
      "outputs": []
    }
  ]
}